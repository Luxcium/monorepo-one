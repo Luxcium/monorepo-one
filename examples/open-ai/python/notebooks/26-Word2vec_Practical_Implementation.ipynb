{
  "cells": [
    {
      "cell_type": "code",
      "execution_count": 1,
      "metadata": {
        "colab": {
          "base_uri": "https://localhost:8080/"
        },
        "id": "4EB1eqf3cQWb",
        "outputId": "60cf53da-6e9b-4448-8c77-46a52c78ea66"
      },
      "outputs": [
        {
          "name": "stdout",
          "output_type": "stream",
          "text": [
            "Requirement already satisfied: gensim in /home/luxcium/anaconda3/lib/python3.10/site-packages (4.3.3)\n",
            "Requirement already satisfied: numpy<2.0,>=1.18.5 in /home/luxcium/anaconda3/lib/python3.10/site-packages (from gensim) (1.26.4)\n",
            "Requirement already satisfied: scipy<1.14.0,>=1.7.0 in /home/luxcium/anaconda3/lib/python3.10/site-packages (from gensim) (1.13.1)\n",
            "Requirement already satisfied: smart-open>=1.8.1 in /home/luxcium/anaconda3/lib/python3.10/site-packages (from gensim) (7.0.5)\n",
            "Requirement already satisfied: wrapt in /home/luxcium/anaconda3/lib/python3.10/site-packages (from smart-open>=1.8.1->gensim) (1.16.0)\n",
            "Note: you may need to restart the kernel to use updated packages.\n"
          ]
        }
      ],
      "source": [
        "%pip install gensim"
      ]
    },
    {
      "cell_type": "code",
      "execution_count": 2,
      "metadata": {
        "id": "5sUEjvcPcSjR"
      },
      "outputs": [],
      "source": [
        "# import gensim"
      ]
    },
    {
      "cell_type": "code",
      "execution_count": 3,
      "metadata": {
        "id": "UoddHebCccEA"
      },
      "outputs": [],
      "source": [
        "from gensim.models import Word2Vec, KeyedVectors"
      ]
    },
    {
      "cell_type": "code",
      "execution_count": 4,
      "metadata": {
        "id": "AQIC5kRFchcP"
      },
      "outputs": [],
      "source": [
        "## References: https://stackoverflow.com/questions/46433778/import-googlenews-vectors-negative300-bin\n"
      ]
    },
    {
      "cell_type": "code",
      "execution_count": 5,
      "metadata": {
        "colab": {
          "base_uri": "https://localhost:8080/"
        },
        "id": "CVglJxe7apz5",
        "outputId": "d5285377-b400-4588-cf41-a0ce343d9961"
      },
      "outputs": [
        {
          "name": "stdout",
          "output_type": "stream",
          "text": [
            "[==================================================] 100.0% 1662.8/1662.8MB downloaded\n"
          ]
        }
      ],
      "source": [
        "import gensim.downloader as api\n",
        "\n",
        "wv = api.load('word2vec-google-news-300')\n",
        "\n",
        "vec_king = wv['king']"
      ]
    },
    {
      "cell_type": "code",
      "execution_count": null,
      "metadata": {
        "colab": {
          "base_uri": "https://localhost:8080/"
        },
        "id": "jmw-5y9ie_WZ",
        "outputId": "a5ddd4c1-a748-414f-c772-cab5309c273e"
      },
      "outputs": [],
      "source": [
        "vec_king"
      ]
    },
    {
      "cell_type": "code",
      "execution_count": null,
      "metadata": {
        "colab": {
          "base_uri": "https://localhost:8080/"
        },
        "id": "AgGTA8SYmqBr",
        "outputId": "b77c96ae-5cd2-4c49-a566-77b738a9e297"
      },
      "outputs": [],
      "source": [
        "vec_king.shape"
      ]
    },
    {
      "cell_type": "code",
      "execution_count": null,
      "metadata": {
        "colab": {
          "base_uri": "https://localhost:8080/"
        },
        "id": "FvnKkPVxmvCr",
        "outputId": "4e9d3dec-ba3e-4aac-dafc-e36346072c6d"
      },
      "outputs": [],
      "source": [
        "wv['cricket']"
      ]
    },
    {
      "cell_type": "code",
      "execution_count": null,
      "metadata": {
        "colab": {
          "base_uri": "https://localhost:8080/"
        },
        "id": "e54uZ09viYfb",
        "outputId": "a5220ea6-3737-449e-8a1d-441b78adecae"
      },
      "outputs": [],
      "source": [
        "wv.most_similar('cricket')"
      ]
    },
    {
      "cell_type": "code",
      "execution_count": null,
      "metadata": {
        "colab": {
          "base_uri": "https://localhost:8080/"
        },
        "id": "vw5kiHNOik2z",
        "outputId": "8e628831-7c1d-47e8-8dea-7ae664dbd31a"
      },
      "outputs": [],
      "source": [
        "wv.most_similar('happy')"
      ]
    },
    {
      "cell_type": "code",
      "execution_count": null,
      "metadata": {
        "colab": {
          "base_uri": "https://localhost:8080/"
        },
        "id": "5H4XANCFiz7L",
        "outputId": "2c61e22c-48fd-407a-bdbf-bada31b33582"
      },
      "outputs": [],
      "source": [
        "wv.similarity(\"hockey\",\"sports\")"
      ]
    },
    {
      "cell_type": "code",
      "execution_count": 15,
      "metadata": {
        "id": "w7VVwVI8i90p"
      },
      "outputs": [],
      "source": [
        "vec=wv['king']-wv['man']+wv['woman']"
      ]
    },
    {
      "cell_type": "code",
      "execution_count": null,
      "metadata": {
        "colab": {
          "base_uri": "https://localhost:8080/"
        },
        "id": "Yi--OSxMjH_R",
        "outputId": "e05184ee-8f95-4faf-e510-b3fe99e92ca4"
      },
      "outputs": [],
      "source": [
        "vec"
      ]
    },
    {
      "cell_type": "code",
      "execution_count": null,
      "metadata": {
        "colab": {
          "base_uri": "https://localhost:8080/"
        },
        "id": "3PkeelKkjI8h",
        "outputId": "f2a9d0f4-b620-44ce-f8ac-d771a0787653"
      },
      "outputs": [],
      "source": [
        "wv.most_similar([vec])"
      ]
    },
    {
      "cell_type": "code",
      "execution_count": null,
      "metadata": {
        "id": "nAN01EbsjNQM"
      },
      "outputs": [],
      "source": []
    }
  ],
  "metadata": {
    "accelerator": "GPU",
    "colab": {
      "provenance": []
    },
    "gpuClass": "standard",
    "kernelspec": {
      "display_name": "base",
      "language": "python",
      "name": "python3"
    },
    "language_info": {
      "codemirror_mode": {
        "name": "ipython",
        "version": 3
      },
      "file_extension": ".py",
      "mimetype": "text/x-python",
      "name": "python",
      "nbconvert_exporter": "python",
      "pygments_lexer": "ipython3",
      "version": "3.10.15"
    }
  },
  "nbformat": 4,
  "nbformat_minor": 0
}
